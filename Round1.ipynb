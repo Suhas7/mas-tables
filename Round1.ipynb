{
 "cells": [
  {
   "cell_type": "code",
   "execution_count": 8,
   "metadata": {},
   "outputs": [],
   "source": [
    "import json\n",
    "import scipy.integrate as integ\n",
    "from math import sqrt, sin, cos, atan, radians, degrees\n",
    "%matplotlib inline\n",
    "from matplotlib import pyplot\n",
    "from shapely.geometry import Polygon\n",
    "from descartes.patch import PolygonPatch"
   ]
  },
  {
   "cell_type": "code",
   "execution_count": 49,
   "metadata": {},
   "outputs": [],
   "source": [
    "class Seat:\n",
    "    def __init__(self,ID,x,y,theta):\n",
    "        self.x=x\n",
    "        self.y=y\n",
    "        self.theta=theta\n",
    "        self.ID=ID\n",
    "        self.degVal=dict()\n",
    "    def __compute_view_value__(self,ang,seat):\n",
    "        other_theta = (seat.theta + ang+90)%360\n",
    "        #Rotate based on self perspective\n",
    "        ang = radians((90-ang)%360)\n",
    "        deltX   = seat.x-self.x\n",
    "        deltY   = seat.y-self.y\n",
    "        other_x = cos(ang)*deltX-sin(ang)*deltY\n",
    "        other_y = sin(ang)*deltX+cos(ang)*deltY\n",
    "        #If they're behind you, ignore.\n",
    "        if other_y<-.01: return 0\n",
    "        #Distance from self to other. Subtracts to simulate depth of field.\n",
    "        other_dist=max(1,5-sqrt(deltX**2+deltY**2))\n",
    "        #Find abs angle from direct line of sight\n",
    "        try: peerAng = degrees(atan(abs(other_y/other_x)))-90\n",
    "        except: peerAng=0\n",
    "        #Normalize abs angle into a scaling factor\n",
    "        minfact=.25\n",
    "        maxAng=90/(1-minfact)\n",
    "        deltang = (maxAng-abs(peerAng))/maxAng\n",
    "        return other_dist*deltang\n",
    "    def gradePosition(self,Seats):\n",
    "        score = 0\n",
    "        for deg in range(-80,81):\n",
    "            currScore=0\n",
    "            for seat in Seats.values():\n",
    "                if seat.ID!=self.ID:\n",
    "                    currScore += (self.__compute_view_value__((self.theta+deg)%360,seat))\n",
    "            self.degVal[deg]=currScore\n",
    "            score+=currScore*(150-abs(deg))/150\n",
    "        return score/160\n",
    "    def plotFOVVals(self,scale=False):\n",
    "        points = sorted(((k,v) for k,v in self.degVal.items()),key=lambda x: x[0])\n",
    "        x=list()\n",
    "        y=list()\n",
    "        for p in points:\n",
    "            x.append(p[0])\n",
    "            if not scale: y.append(p[1])\n",
    "            else: y.append(p[1]*(250-abs(p[0])))\n",
    "        pyplot.plot(x,y)"
   ]
  },
  {
   "cell_type": "code",
   "execution_count": 50,
   "metadata": {},
   "outputs": [
    {
     "name": "stderr",
     "output_type": "stream",
     "text": [
      "/Users/suhas/opt/anaconda3/lib/python3.7/site-packages/ipykernel_launcher.py:15: UserWarning: Matplotlib is currently using module://ipykernel.pylab.backend_inline, which is a non-GUI backend, so cannot show the figure.\n",
      "  from ipykernel import kernelapp as app\n"
     ]
    },
    {
     "data": {
      "image/png": "[encoded data removed]",
      "text/plain": [
       "<Figure size 540x360 with 1 Axes>"
      ]
     },
     "metadata": {
      "needs_background": "light"
     },
     "output_type": "display_data"
    }
   ],
   "source": [
    "#Pull in data for a particular table\n",
    "datasets = json.loads(open(\"table_data.json\",'r').read())\n",
    "table = 'dining-circle'\n",
    "N = len(datasets[table].keys())\n",
    "seats = {int(k):Seat(int(k),v[0],v[1],v[2]) for k,v in datasets[table].items()}\n",
    "fig = pyplot.figure(5, dpi=90)\n",
    "ax = fig.add_subplot(121)\n",
    "coords = list((seat.x,seat.y) for l,seat in seats.items())\n",
    "polygon = Polygon(coords)\n",
    "if polygon.is_valid==False: polygon=polygon.convex_hull #todo concavity is tough\n",
    "patch = PolygonPatch(polygon)\n",
    "ax.add_patch(patch)\n",
    "pyplot.xlim(-5,5)\n",
    "pyplot.ylim(-5,5)\n",
    "fig.show()"
   ]
  },
  {
   "cell_type": "code",
   "execution_count": 51,
   "metadata": {},
   "outputs": [
    {
     "name": "stdout",
     "output_type": "stream",
     "text": [
      "5.5816717865917695\n",
      "5.5816717865917695\n",
      "5.756865583945787\n",
      "5.756865583945784\n",
      "4.439340108160474\n",
      "6.073047259049374\n"
     ]
    }
   ],
   "source": [
    "for k,seat in seats.items(): print(seat.gradePosition(seats))"
   ]
  },
  {
   "cell_type": "code",
   "execution_count": 52,
   "metadata": {},
   "outputs": [
    {
     "data": {
      "text/plain": [
       "1.875"
      ]
     },
     "execution_count": 52,
     "metadata": {},
     "output_type": "execute_result"
    }
   ],
   "source": [
    "a=3\n",
    "b=2\n",
    "seats[a].__compute_view_value__((seats[a].theta+0)%360,seats[b])"
   ]
  },
  {
   "cell_type": "code",
   "execution_count": 53,
   "metadata": {},
   "outputs": [
    {
     "data": {
      "image/png": "[encoded data removed]",
      "text/plain": [
       "<Figure size 432x288 with 1 Axes>"
      ]
     },
     "metadata": {
      "needs_background": "light"
     },
     "output_type": "display_data"
    }
   ],
   "source": [
    "arr=[]\n",
    "self=seats[0]\n",
    "self.plotFOVVals(scale=True)"
   ]
  },
  {
   "cell_type": "code",
   "execution_count": null,
   "metadata": {},
   "outputs": [],
   "source": []
  }
 ],
 "metadata": {
  "kernelspec": {
   "display_name": "Python 3",
   "language": "python",
   "name": "python3"
  },
  "language_info": {
   "codemirror_mode": {
    "name": "ipython",
    "version": 3
   },
   "file_extension": ".py",
   "mimetype": "text/x-python",
   "name": "python",
   "nbconvert_exporter": "python",
   "pygments_lexer": "ipython3",
   "version": "3.7.6"
  }
 },
 "nbformat": 4,
 "nbformat_minor": 4
}
