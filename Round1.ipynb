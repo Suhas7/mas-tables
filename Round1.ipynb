{
 "cells": [
  {
   "cell_type": "code",
   "execution_count": 66,
   "metadata": {},
   "outputs": [],
   "source": [
    "import json\n",
    "import scipy.integrate as integ\n",
    "from math import sqrt, sin, cos, atan, radians, degrees"
   ]
  },
  {
   "cell_type": "code",
   "execution_count": 101,
   "metadata": {},
   "outputs": [],
   "source": [
    "class Seat:\n",
    "    def __init__(self,ID,x,y,theta):\n",
    "        self.x=x\n",
    "        self.y=y\n",
    "        self.theta=theta\n",
    "        self.ID=ID\n",
    "    def __compute_view_value__(self,ang,seat):\n",
    "        other_theta = (seat.theta + ang+90)%360\n",
    "        ang = radians((90-ang)%360)\n",
    "        deltX   = seat.x-self.x\n",
    "        deltY   = seat.y-self.y\n",
    "        other_x = cos(ang)*deltX-sin(ang)*deltY\n",
    "        other_y = sin(ang)*deltX+cos(ang)*deltY\n",
    "        if other_y<-.01: return 0\n",
    "        other_dist=sqrt(deltX**2+deltY**2)\n",
    "        try: peerAng = degrees(atan(abs(other_y/other_x)))-90\n",
    "        except: peerAng=0\n",
    "        deltang = (120-abs(peerAng))/120\n",
    "        return max(1,5-other_dist)*deltang\n",
    "\n",
    "    def gradePosition(self,Seats):\n",
    "        score = 0\n",
    "        for seat in Seats.values():\n",
    "            if seat.ID!=self.ID:\n",
    "                for deg in range(-80,80):\n",
    "                    score += (self.__compute_view_value__((self.theta+deg)%360,seat))*(150-abs(deg))/150\n",
    "        return score/160"
   ]
  },
  {
   "cell_type": "code",
   "execution_count": 104,
   "metadata": {},
   "outputs": [
    {
     "data": {
      "text/plain": [
       "{'0': [0, 0, 90], '1': [2.5, 0, 90], '2': [0, 3, 180], '3': [2.5, 3, 180]}"
      ]
     },
     "execution_count": 104,
     "metadata": {},
     "output_type": "execute_result"
    }
   ],
   "source": [
    "#Pull in data for a particular table\n",
    "datasets = json.loads(open(\"table_data.json\",'r').read())\n",
    "table = 'picnic'\n",
    "N = len(datasets[table].keys())\n",
    "seats = {int(k):Seat(int(k),v[0],v[1],v[2]) for k,v in datasets[table].items()}\n",
    "datasets[table]"
   ]
  },
  {
   "cell_type": "code",
   "execution_count": 105,
   "metadata": {},
   "outputs": [
    {
     "name": "stdout",
     "output_type": "stream",
     "text": [
      "2.01142234892434\n",
      "2.002614571274781\n",
      "0.4633908349152004\n",
      "2.1161378388263197\n"
     ]
    }
   ],
   "source": [
    "for k,seat in seats.items(): print(seat.gradePosition(seats))"
   ]
  },
  {
   "cell_type": "code",
   "execution_count": 100,
   "metadata": {},
   "outputs": [
    {
     "name": "stdout",
     "output_type": "stream",
     "text": [
      "(-1.414213562373095, 1.4142135623730954)\n"
     ]
    },
    {
     "data": {
      "text/plain": [
       "1.875"
      ]
     },
     "execution_count": 100,
     "metadata": {},
     "output_type": "execute_result"
    }
   ],
   "source": [
    "a=3\n",
    "b=2\n",
    "seats[a].__compute_view_value__((seats[a].theta+0)%360,seats[b])"
   ]
  },
  {
   "cell_type": "code",
   "execution_count": null,
   "metadata": {},
   "outputs": [],
   "source": []
  }
 ],
 "metadata": {
  "kernelspec": {
   "display_name": "Python 3",
   "language": "python",
   "name": "python3"
  },
  "language_info": {
   "codemirror_mode": {
    "name": "ipython",
    "version": 3
   },
   "file_extension": ".py",
   "mimetype": "text/x-python",
   "name": "python",
   "nbconvert_exporter": "python",
   "pygments_lexer": "ipython3",
   "version": "3.7.6"
  }
 },
 "nbformat": 4,
 "nbformat_minor": 4
}
