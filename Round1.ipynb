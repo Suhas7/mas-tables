{
 "cells": [
  {
   "cell_type": "code",
   "execution_count": 1,
   "metadata": {},
   "outputs": [],
   "source": [
    "import json\n",
    "import scipy.integrate as integ\n",
    "%matplotlib inline\n",
    "from matplotlib import pyplot as plt\n",
    "from shapely.geometry import Polygon\n",
    "from descartes.patch import PolygonPatch\n",
    "import random as rd"
   ]
  },
  {
   "cell_type": "markdown",
   "metadata": {},
   "source": [
    "## Class Definition"
   ]
  },
  {
   "cell_type": "markdown",
   "metadata": {},
   "source": [
    "### Seat"
   ]
  },
  {
   "cell_type": "code",
   "execution_count": 18,
   "metadata": {},
   "outputs": [],
   "source": [
    "class Seat:\n",
    "    def __init__(self,ID,x,y,theta):\n",
    "        self.x=x\n",
    "        self.y=y\n",
    "        self.theta=theta%360\n",
    "        self.currTheta=theta%360\n",
    "        self.ID=ID\n",
    "        self.assignee = None\n",
    "        self.degVal=dict()\n",
    "        self.degValX=list()\n",
    "        self.degValY=list()\n",
    "        self.deltTheta=0\n",
    "    def __compute_view_value__(self,ang,seat):\n",
    "        from math import sqrt, sin, cos, atan, radians, degrees\n",
    "        #Rotate based on self perspective\n",
    "        other_theta = (seat.currTheta + 90-ang)%360\n",
    "        ang = radians((90-ang)%360)\n",
    "        deltX   = seat.x-self.x\n",
    "        deltY   = seat.y-self.y\n",
    "        other_x = cos(ang)*deltX-sin(ang)*deltY\n",
    "        other_y = sin(ang)*deltX+cos(ang)*deltY\n",
    "        #If they're behind you, ignore.\n",
    "        if other_y<-.01: return 0\n",
    "        #Distance from self to other. Subtracts to simulate depth of field.\n",
    "        other_dist=max(1,5-sqrt(deltX**2+deltY**2))\n",
    "        #Find abs angle from direct line of sight\n",
    "        try: peerAng = degrees(atan(abs(other_y/other_x)))-90\n",
    "        except: peerAng=0\n",
    "        #Normalize abs angle into a scaling factor\n",
    "        minfact=.25\n",
    "        maxAng=90/(1-minfact)\n",
    "        deltang = (maxAng-abs(peerAng))/maxAng\n",
    "        #Find angle of incidence\n",
    "        incidence = abs(other_theta+180-90)%360\n",
    "        if incidence>180: incidence=360-incidence\n",
    "        lam_incidence=1-incidence/150\n",
    "        #Scale by friendship factor\n",
    "        ff = self.assignee.relationships[seat.assignee.ID]\n",
    "        return other_dist*deltang*lam_incidence*ff\n",
    "    def gradePosition(self, Seats, thetaOff=0):\n",
    "        theta=self.currTheta+thetaOff\n",
    "        score = 0\n",
    "        for deg in range(-80,81):\n",
    "            currScore=0\n",
    "            for seat in Seats.values():\n",
    "                if seat.ID!=self.ID:\n",
    "                    currScore += (self.__compute_view_value__((theta+deg)%360,seat))\n",
    "            self.degVal[deg]=currScore\n",
    "            score+=currScore*(150-abs(deg))/150\n",
    "        return score/160\n",
    "    def plotFOVVals(self,scale=False):\n",
    "        points = sorted(((k,v) for k,v in self.degVal.items()), key=lambda x: x[0])\n",
    "        x=list()\n",
    "        y=list()\n",
    "        for p in points:\n",
    "            x.append(p[0])\n",
    "            y.append(p[1]*(250-abs(p[0]*scale)))\n",
    "        plt.plot(x,y)\n",
    "        self.degValX=x\n",
    "        self.degValY=y\n",
    "        return x,y\n",
    "    def chooseDir(self,Seats):\n",
    "        arr=list()\n",
    "        for i in range(-1,2):\n",
    "            arr.append(self.gradePosition(Seats,thetaOff=i))\n",
    "        self.deltTheta=arr.index(max(arr))-1\n",
    "    def applyThetaDelt(self):\n",
    "        if abs((((self.currTheta+self.deltTheta)%360)-self.theta)%360)<90:\n",
    "            self.currTheta =(self.currTheta + self.deltTheta)%360"
   ]
  },
  {
   "cell_type": "markdown",
   "metadata": {},
   "source": [
    "### Person"
   ]
  },
  {
   "cell_type": "code",
   "execution_count": 19,
   "metadata": {},
   "outputs": [],
   "source": [
    "class Person:\n",
    "    def __init__(self,ID):\n",
    "        self.ID=ID\n",
    "        self.seat = None\n",
    "        self.relationships=dict()\n",
    "    def generateRelationships(self,seats):\n",
    "        for k,i in seats.items():\n",
    "            if i.ID!=self.ID:\n",
    "                self.relationships[i.ID] = rd.gauss(1,.2)\n",
    "                i.assignee.relationships[self.ID] = self.relationships[i.ID]+rd.gauss(0,.05)\n",
    "    def assignSeat(self,seat):\n",
    "        self.seat = seat\n",
    "        seat.assignee=self"
   ]
  },
  {
   "cell_type": "markdown",
   "metadata": {},
   "source": [
    "## Data Ingestion"
   ]
  },
  {
   "cell_type": "code",
   "execution_count": 20,
   "metadata": {},
   "outputs": [
    {
     "name": "stderr",
     "output_type": "stream",
     "text": [
      "/Users/suhas/opt/anaconda3/lib/python3.7/site-packages/ipykernel_launcher.py:22: UserWarning: Matplotlib is currently using module://ipykernel.pylab.backend_inline, which is a non-GUI backend, so cannot show the figure.\n"
     ]
    },
    {
     "data": {
      "image/png": "[encoded data removed]",
      "text/plain": [
       "<Figure size 540x360 with 1 Axes>"
      ]
     },
     "metadata": {
      "needs_background": "light"
     },
     "output_type": "display_data"
    }
   ],
   "source": [
    "#Pull in data for a particular table\n",
    "datasets = json.loads(open(\"table_data.json\",'r').read())\n",
    "table = 'dining-circle'\n",
    "N = len(datasets[table].keys())\n",
    "seats = {int(k):Seat(int(k),v[0],v[1],v[2]) for k,v in datasets[table].items()}\n",
    "for ID, st in seats.items():\n",
    "    Person(ID).assignSeat(st)\n",
    "for ID, st in seats.items():\n",
    "    st.assignee.generateRelationships(seats)\n",
    "\n",
    "\n",
    "#Plot Table\n",
    "fig = plt.figure(5, dpi=90)\n",
    "ax = fig.add_subplot(121)\n",
    "coords = list((seat.x,seat.y) for l,seat in seats.items())\n",
    "polygon = Polygon(coords)\n",
    "if polygon.is_valid==False: polygon=polygon.convex_hull #todo concavity is tough\n",
    "patch = PolygonPatch(polygon)\n",
    "ax.add_patch(patch)\n",
    "plt.xlim(-5,5)\n",
    "plt.ylim(-5,5)\n",
    "fig.show()"
   ]
  },
  {
   "cell_type": "code",
   "execution_count": 21,
   "metadata": {},
   "outputs": [
    {
     "data": {
      "text/plain": [
       "0.5859787358467556"
      ]
     },
     "execution_count": 21,
     "metadata": {},
     "output_type": "execute_result"
    }
   ],
   "source": [
    "a=0\n",
    "b=2\n",
    "seats[a].__compute_view_value__((seats[a].theta+0)%360,seats[b])"
   ]
  },
  {
   "cell_type": "markdown",
   "metadata": {},
   "source": [
    "### Initial viewports for each seat"
   ]
  },
  {
   "cell_type": "code",
   "execution_count": 22,
   "metadata": {},
   "outputs": [
    {
     "name": "stdout",
     "output_type": "stream",
     "text": [
      "Average Score is 1081.114912523753\n"
     ]
    },
    {
     "data": {
      "image/png": "[encoded data removed]",
      "text/plain": [
       "<Figure size 432x288 with 1 Axes>"
      ]
     },
     "metadata": {
      "needs_background": "light"
     },
     "output_type": "display_data"
    }
   ],
   "source": [
    "ave=0\n",
    "for i in range(N):\n",
    "    seats[i].gradePosition(seats)\n",
    "    x,y=seats[i].plotFOVVals(scale=True)\n",
    "    ave+=y[80]/N\n",
    "print(\"Average Score is {}\".format(ave))"
   ]
  },
  {
   "cell_type": "code",
   "execution_count": 23,
   "metadata": {},
   "outputs": [
    {
     "name": "stdout",
     "output_type": "stream",
     "text": [
      "45\n",
      "315\n",
      "135\n",
      "225\n",
      "330\n",
      "30\n"
     ]
    }
   ],
   "source": [
    "for i in range(N):\n",
    "    print(seats[i].currTheta)"
   ]
  },
  {
   "cell_type": "markdown",
   "metadata": {},
   "source": [
    "### Emergent viewports "
   ]
  },
  {
   "cell_type": "code",
   "execution_count": null,
   "metadata": {},
   "outputs": [],
   "source": [
    "epochs=100\n",
    "for _ in range(epochs):\n",
    "    for i in range(N):\n",
    "        seats[i].chooseDir(seats)\n",
    "    for i in range(N):\n",
    "        seats[i].applyThetaDelt()\n",
    "ave=0\n",
    "for i in range(N):\n",
    "    seats[i].gradePosition(seats)\n",
    "    x,y=seats[i].plotFOVVals(scale=True)\n",
    "    ave+=y[80]/N\n",
    "print(\"Average Score is {}\".format(ave))"
   ]
  },
  {
   "cell_type": "code",
   "execution_count": 25,
   "metadata": {},
   "outputs": [
    {
     "name": "stdout",
     "output_type": "stream",
     "text": [
      "112\n",
      "315\n",
      "148\n",
      "225\n",
      "6\n",
      "30\n"
     ]
    }
   ],
   "source": [
    "for i in range(N):\n",
    "    print(seats[i].currTheta)"
   ]
  }
 ],
 "metadata": {
  "kernelspec": {
   "display_name": "Python 3",
   "language": "python",
   "name": "python3"
  },
  "language_info": {
   "codemirror_mode": {
    "name": "ipython",
    "version": 3
   },
   "file_extension": ".py",
   "mimetype": "text/x-python",
   "name": "python",
   "nbconvert_exporter": "python",
   "pygments_lexer": "ipython3",
   "version": "3.7.6"
  }
 },
 "nbformat": 4,
 "nbformat_minor": 4
}
