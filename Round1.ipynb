{
 "cells": [
  {
   "cell_type": "code",
   "execution_count": 28,
   "metadata": {},
   "outputs": [],
   "source": [
    "import json\n",
    "import scipy.integrate as integ\n",
    "from math import sqrt"
   ]
  },
  {
   "cell_type": "code",
   "execution_count": 58,
   "metadata": {},
   "outputs": [],
   "source": [
    "class Seat:\n",
    "    def __init__(self,ID,x,y,theta):\n",
    "        self.x=x\n",
    "        self.y=y\n",
    "        self.theta=theta\n",
    "        self.ID=ID\n",
    "    def __compute_view_value__(self,ang,seat):\n",
    "        eng = 0\n",
    "        dist = sqrt(abs(self.x-seat.x)**2+abs(self.y-seat.y)**2)\n",
    "        deltang = 1-abs(180-abs(self.theta-seat.theta))/180\n",
    "        return dist*deltang\n",
    "\n",
    "    def gradePosition(self,Seats):\n",
    "        score = 0\n",
    "        score = sum(self.__compute_view_value__(0,seat) for seat in Seats if seat.ID!=self.ID)\n",
    "        return score"
   ]
  },
  {
   "cell_type": "code",
   "execution_count": 59,
   "metadata": {},
   "outputs": [],
   "source": [
    "#Pull in data for a particular table\n",
    "datasets = json.loads(open(\"table_data.json\",'r').read())\n",
    "table = 'picnic'\n",
    "N = len(datasets[table].keys())\n",
    "seats = {Seat(int(k),v[0],v[1],v[2]) for k,v in datasets[table].items()}"
   ]
  },
  {
   "cell_type": "code",
   "execution_count": 60,
   "metadata": {},
   "outputs": [],
   "source": [
    "for seat in seats: (seat.gradePosition(seats))"
   ]
  },
  {
   "cell_type": "code",
   "execution_count": 61,
   "metadata": {},
   "outputs": [
    {
     "data": {
      "text/plain": [
       "{'0': [0, 0, 180], '1': [2.5, 0, 180], '2': [0, 3, 0], '3': [2.5, 3, 0]}"
      ]
     },
     "execution_count": 61,
     "metadata": {},
     "output_type": "execute_result"
    }
   ],
   "source": [
    "datasets[table]"
   ]
  },
  {
   "cell_type": "code",
   "execution_count": 62,
   "metadata": {},
   "outputs": [
    {
     "name": "stdout",
     "output_type": "stream",
     "text": [
      "6.905124837953327\n",
      "6.905124837953327\n",
      "6.905124837953327\n",
      "6.905124837953327\n"
     ]
    }
   ],
   "source": [
    "for seat in seats: print(seat.gradePosition(seats))"
   ]
  },
  {
   "cell_type": "code",
   "execution_count": null,
   "metadata": {},
   "outputs": [],
   "source": []
  }
 ],
 "metadata": {
  "kernelspec": {
   "display_name": "Python 3",
   "language": "python",
   "name": "python3"
  },
  "language_info": {
   "codemirror_mode": {
    "name": "ipython",
    "version": 3
   },
   "file_extension": ".py",
   "mimetype": "text/x-python",
   "name": "python",
   "nbconvert_exporter": "python",
   "pygments_lexer": "ipython3",
   "version": "3.7.6"
  }
 },
 "nbformat": 4,
 "nbformat_minor": 4
}
